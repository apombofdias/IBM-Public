{
 "cells": [
  {
   "cell_type": "markdown",
   "id": "038475b2-fab9-4297-8fae-9d84e2f82a82",
   "metadata": {
    "tags": []
   },
   "source": [
    "# Data Science Tools and Ecosystem"
   ]
  },
  {
   "cell_type": "markdown",
   "id": "5704db3e-bffb-4659-be06-823fab631aae",
   "metadata": {
    "tags": []
   },
   "source": [
    "## Author: André Dias"
   ]
  },
  {
   "cell_type": "markdown",
   "id": "1ecb833c-13c3-4f96-9406-7e0767b46dc0",
   "metadata": {},
   "source": [
    "In this notebook, Data Science Tools and Ecosystem are summarized."
   ]
  },
  {
   "cell_type": "markdown",
   "id": "5d6bdb69-8350-4c95-a7cb-466bafa1612c",
   "metadata": {},
   "source": [
    "**Objectives:**\n",
    "- conduct arithmetic calculations\n",
    "- understand how to bold text\n",
    "- ordered list\n",
    "- unordered list\n",
    "- simple coding"
   ]
  },
  {
   "cell_type": "markdown",
   "id": "1944983e-65a1-497a-8663-e0a08a5c02c0",
   "metadata": {
    "tags": []
   },
   "source": [
    "Some of the popular languages that Data Scientists use are:\n",
    "1. Python\n",
    "2. R\n",
    "3. SQL"
   ]
  },
  {
   "cell_type": "markdown",
   "id": "c6a6250a-20ae-4009-9ebe-8dd8abc2d5e1",
   "metadata": {},
   "source": [
    "Some of the commonly used libraries used by Data Scientists include:\n",
    "1. NumPy\n",
    "2. Keras\n",
    "3. Pandas\n",
    "4. PyTorch"
   ]
  },
  {
   "cell_type": "markdown",
   "id": "4b0a3047-a789-4539-9453-3775a783692a",
   "metadata": {
    "tags": []
   },
   "source": [
    "### Below are a few examples of evaluating arithmetic expressions in Python"
   ]
  },
  {
   "cell_type": "markdown",
   "id": "dbc8dcfa-b252-42dd-adea-5a1ed62bf755",
   "metadata": {},
   "source": [
    "|Data Science Tools|\n",
    "|--|\n",
    "|RStudio|\n",
    "|Apache Spark|\n",
    "|TensorFlow|\n",
    "|Apache Hadoop|"
   ]
  },
  {
   "cell_type": "code",
   "execution_count": 4,
   "id": "71465bbd-25d8-4e74-a00b-3717b5466cb5",
   "metadata": {
    "tags": []
   },
   "outputs": [
    {
     "data": {
      "text/plain": [
       "17"
      ]
     },
     "execution_count": 4,
     "metadata": {},
     "output_type": "execute_result"
    }
   ],
   "source": [
    "#This a simple arithmetic expression to mutiply then add integers\n",
    "(3*4)+5"
   ]
  },
  {
   "cell_type": "code",
   "execution_count": 11,
   "id": "5442ebeb-540c-4218-927f-fe85af768296",
   "metadata": {
    "tags": []
   },
   "outputs": [
    {
     "name": "stdout",
     "output_type": "stream",
     "text": [
      "3.3333333333333335\n"
     ]
    }
   ],
   "source": [
    "#This will convert 200 minutes to hours by diving by 60\n",
    "x= 200\n",
    "hours = x / 60\n",
    "print (hours)"
   ]
  },
  {
   "cell_type": "code",
   "execution_count": null,
   "id": "6b1b48dd-7f73-41fe-afe5-880386ccd877",
   "metadata": {},
   "outputs": [],
   "source": []
  }
 ],
 "metadata": {
  "kernelspec": {
   "display_name": "Python 3 (ipykernel)",
   "language": "python",
   "name": "python3"
  },
  "language_info": {
   "codemirror_mode": {
    "name": "ipython",
    "version": 3
   },
   "file_extension": ".py",
   "mimetype": "text/x-python",
   "name": "python",
   "nbconvert_exporter": "python",
   "pygments_lexer": "ipython3",
   "version": "3.11.5"
  }
 },
 "nbformat": 4,
 "nbformat_minor": 5
}
